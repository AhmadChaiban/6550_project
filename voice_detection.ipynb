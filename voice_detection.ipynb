{
 "cells": [
  {
   "cell_type": "markdown",
   "metadata": {},
   "source": [
    "# Voice Cloning detection "
   ]
  },
  {
   "cell_type": "markdown",
   "metadata": {},
   "source": [
    "## Links of interest\n",
    "\n",
    "### Data sets\n",
    "- https://lionbridge.ai/datasets/best-speech-recognition-datasets-for-machine-learning/\n",
    "- https://data.mendeley.com/datasets/k47yd3m28w/2\n",
    "- https://keithito.com/LJ-Speech-Dataset/\n",
    "- https://www.kaggle.com/charlesaverill/imagenet-voice\n",
    "- https://www.kaggle.com/fabawi/augmented-extended-train-robots\n",
    "- https://www.kaggle.com/jbuchner/synthetic-speech-commands-dataset\n",
    "- https://www.kaggle.com/primaryobjects/voicegender\n",
    "\n",
    "### Articles & Studies\n",
    "- https://www.ncbi.nlm.nih.gov/pmc/articles/PMC7058910/\n",
    "- https://yorkspace.library.yorku.ca/xmlui/bitstream/handle/10315/36698/Reimao_Ricardo_AM_2019_Masters.pdf?sequence=2\n",
    "- https://r9y9.github.io/deepvoice3_pytorch/"
   ]
  },
  {
   "cell_type": "code",
   "execution_count": 2,
   "metadata": {},
   "outputs": [],
   "source": [
    "import numpy as np\n",
    "import pandas as pd"
   ]
  },
  {
   "cell_type": "code",
   "execution_count": null,
   "metadata": {},
   "outputs": [],
   "source": []
  }
 ],
 "metadata": {
  "kernelspec": {
   "display_name": "Python 3",
   "language": "python",
   "name": "python3"
  },
  "language_info": {
   "codemirror_mode": {
    "name": "ipython",
    "version": 3
   },
   "file_extension": ".py",
   "mimetype": "text/x-python",
   "name": "python",
   "nbconvert_exporter": "python",
   "pygments_lexer": "ipython3",
   "version": "3.7.6"
  },
  "toc": {
   "base_numbering": 1,
   "nav_menu": {},
   "number_sections": true,
   "sideBar": true,
   "skip_h1_title": false,
   "title_cell": "Table of Contents",
   "title_sidebar": "Contents",
   "toc_cell": false,
   "toc_position": {
    "height": "calc(100% - 180px)",
    "left": "10px",
    "top": "150px",
    "width": "604.391px"
   },
   "toc_section_display": true,
   "toc_window_display": true
  }
 },
 "nbformat": 4,
 "nbformat_minor": 4
}
